{
  "nbformat": 4,
  "nbformat_minor": 0,
  "metadata": {
    "colab": {
      "provenance": [],
      "authorship_tag": "ABX9TyN7n+iMIWcC/FyZsDHZTvUj",
      "include_colab_link": true
    },
    "kernelspec": {
      "name": "python3",
      "display_name": "Python 3"
    },
    "language_info": {
      "name": "python"
    }
  },
  "cells": [
    {
      "cell_type": "markdown",
      "metadata": {
        "id": "view-in-github",
        "colab_type": "text"
      },
      "source": [
        "<a href=\"https://colab.research.google.com/github/kravtsov-s-o/django-personal-assistant/blob/master/DS_HW1.ipynb\" target=\"_parent\"><img src=\"https://colab.research.google.com/assets/colab-badge.svg\" alt=\"Open In Colab\"/></a>"
      ]
    },
    {
      "cell_type": "code",
      "execution_count": 1,
      "metadata": {
        "id": "25JYncFw3Zj5"
      },
      "outputs": [],
      "source": [
        "import numpy as np"
      ]
    },
    {
      "cell_type": "markdown",
      "source": [
        "1. Створіть одновимірний масив (вектор) з першими 10-ма натуральними числами та виведіть його значення."
      ],
      "metadata": {
        "id": "pvIYqqOx9uKu"
      }
    },
    {
      "cell_type": "code",
      "source": [
        "a = np.linspace(1, 10, num=10)\n",
        "print(a)"
      ],
      "metadata": {
        "colab": {
          "base_uri": "https://localhost:8080/"
        },
        "id": "8dlI5igT9JjH",
        "outputId": "2aae8515-1777-4fb1-beb9-27d1a702d016"
      },
      "execution_count": 3,
      "outputs": [
        {
          "output_type": "stream",
          "name": "stdout",
          "text": [
            "[ 1.  2.  3.  4.  5.  6.  7.  8.  9. 10.]\n"
          ]
        }
      ]
    },
    {
      "cell_type": "markdown",
      "source": [
        "2. Створіть двовимірний масив (матрицю) розміром 3x3, заповніть його нулями та виведіть його значення.\n"
      ],
      "metadata": {
        "id": "9uIHGQNq93kZ"
      }
    },
    {
      "cell_type": "code",
      "source": [
        "a = np.zeros((3,3), dtype=int)\n",
        "print(a)"
      ],
      "metadata": {
        "colab": {
          "base_uri": "https://localhost:8080/"
        },
        "id": "Nb1Sf1HO96F4",
        "outputId": "f3b1885b-1a53-43f3-8b49-ad80b71af0eb"
      },
      "execution_count": 5,
      "outputs": [
        {
          "output_type": "stream",
          "name": "stdout",
          "text": [
            "[[0 0 0]\n",
            " [0 0 0]\n",
            " [0 0 0]]\n"
          ]
        }
      ]
    },
    {
      "cell_type": "markdown",
      "source": [
        "3. Створіть масив розміром 5x5, заповніть його випадковими цілими числами в діапазоні від 1 до 10 та виведіть його значення."
      ],
      "metadata": {
        "id": "qdh-akBz-MVr"
      }
    },
    {
      "cell_type": "code",
      "source": [
        "a = np.random.randint(1, 11, (5, 5))\n",
        "print(a)"
      ],
      "metadata": {
        "colab": {
          "base_uri": "https://localhost:8080/"
        },
        "id": "5nR1n-BS-NkG",
        "outputId": "a5bb7abd-a86d-4874-f98f-bd657b7c1c87"
      },
      "execution_count": 8,
      "outputs": [
        {
          "output_type": "stream",
          "name": "stdout",
          "text": [
            "[[ 6  3  3  1  1]\n",
            " [ 1  3  2  4  5]\n",
            " [ 1  8  4  9  5]\n",
            " [ 6  6  8  2  4]\n",
            " [ 8  9  1  5 10]]\n"
          ]
        }
      ]
    },
    {
      "cell_type": "markdown",
      "source": [
        "4. Створіть масив розміром 4x4, заповніть його випадковими дійсними числами в діапазоні від 0 до 1 та виведіть його значення."
      ],
      "metadata": {
        "id": "_f9mMZWg-7HJ"
      }
    },
    {
      "cell_type": "code",
      "source": [
        "a = np.random.rand(4, 4)\n",
        "print(a)"
      ],
      "metadata": {
        "colab": {
          "base_uri": "https://localhost:8080/"
        },
        "id": "8ElWypRM-8r_",
        "outputId": "b9c6768f-f6f9-49bd-c4e9-3dae4368cd7b"
      },
      "execution_count": 11,
      "outputs": [
        {
          "output_type": "stream",
          "name": "stdout",
          "text": [
            "[[0.25564782 0.79731126 0.31745681 0.96769961]\n",
            " [0.81131662 0.47222281 0.56027222 0.61383775]\n",
            " [0.94969867 0.59290775 0.62559189 0.085473  ]\n",
            " [0.67850852 0.98809055 0.83232878 0.35417892]]\n"
          ]
        }
      ]
    },
    {
      "cell_type": "markdown",
      "source": [
        "5. Створіть два одновимірних масиви розміром 5, заповніть їх випадковими цілими числами в діапазоні від 1 до 10 та виконайте на них поелементні операції додавання, віднімання та множення."
      ],
      "metadata": {
        "id": "nWoaUkDv_Hhn"
      }
    },
    {
      "cell_type": "code",
      "source": [
        "a = np.random.randint(1, 11, (5,))\n",
        "b = np.random.randint(1, 11, (5,))\n",
        "print(f'Array a: {a}')\n",
        "print(f'Array b: {b}')\n",
        "print(f'Додавання: {a + b}')\n",
        "print(f'Віднімання: {a - b}')\n",
        "print(f'Множення: {a * b}')"
      ],
      "metadata": {
        "colab": {
          "base_uri": "https://localhost:8080/"
        },
        "id": "3c0GgME-_JUk",
        "outputId": "d743f7db-d642-48a4-bbbe-2875055f6e50"
      },
      "execution_count": 16,
      "outputs": [
        {
          "output_type": "stream",
          "name": "stdout",
          "text": [
            "Array a: [ 7 10  4 10  2]\n",
            "Array b: [5 8 3 7 1]\n",
            "Додавання: [12 18  7 17  3]\n",
            "Віднімання: [2 2 1 3 1]\n",
            "Множення: [35 80 12 70  2]\n"
          ]
        }
      ]
    },
    {
      "cell_type": "markdown",
      "source": [
        "6. Створіть два вектори розміром 7, заповніть довільними числами та знайдіть їх скалярний добуток."
      ],
      "metadata": {
        "id": "o2beBwDEAZDt"
      }
    },
    {
      "cell_type": "code",
      "source": [
        "a = np.random.random(7)\n",
        "b = np.random.random(7)\n",
        "print(f'Array a: {a}')\n",
        "print(f'Array b: {b}')\n",
        "print(np.dot(a,b))"
      ],
      "metadata": {
        "colab": {
          "base_uri": "https://localhost:8080/"
        },
        "id": "Q8OtJIcEAd88",
        "outputId": "fa12be11-75c4-4b99-9355-d95e0b505543"
      },
      "execution_count": 18,
      "outputs": [
        {
          "output_type": "stream",
          "name": "stdout",
          "text": [
            "Array a: [0.90492496 0.63565776 0.05217353 0.03583857 0.31696014 0.99371907\n",
            " 0.42446732]\n",
            "Array b: [0.35068164 0.37387927 0.09400278 0.42919344 0.23302201 0.90004873\n",
            " 0.63239714]\n",
            "1.8119721567502964\n"
          ]
        }
      ]
    },
    {
      "cell_type": "markdown",
      "source": [
        "7. Створіть дві матриці розміром 2x2 та 2x3, заповніть їх випадковими цілими числами в діапазоні від 1 до 10 та перемножте їх між собою."
      ],
      "metadata": {
        "id": "zApoRiQABNjp"
      }
    },
    {
      "cell_type": "code",
      "source": [
        "a = np.random.randint(1, 11, (2, 2))\n",
        "b = np.random.randint(1, 11, (2, 3))\n",
        "print(f'a: {a}')\n",
        "print(f'b: {b}')\n",
        "print(np.dot(a,b))"
      ],
      "metadata": {
        "colab": {
          "base_uri": "https://localhost:8080/"
        },
        "id": "C80_ceT7BQWP",
        "outputId": "8655ed2e-ec2d-443a-e33a-51b124a04b25"
      },
      "execution_count": 25,
      "outputs": [
        {
          "output_type": "stream",
          "name": "stdout",
          "text": [
            "a: [[1 9]\n",
            " [5 5]]\n",
            "b: [[ 6  6 10]\n",
            " [ 5  3 10]]\n",
            "[[ 51  33 100]\n",
            " [ 55  45 100]]\n"
          ]
        }
      ]
    },
    {
      "cell_type": "markdown",
      "source": [
        "8. Створіть матрицю розміром 3x3, заповніть її випадковими цілими числами в діапазоні від 1 до 10 та знайдіть її обернену матрицю."
      ],
      "metadata": {
        "id": "wMhfGaqPCaTB"
      }
    },
    {
      "cell_type": "code",
      "source": [
        "a = np.random.randint(1, 11, (3, 3))\n",
        "a_inv = np.linalg.inv(a)\n",
        "print(f'a: {a}')\n",
        "print(f'a_inv: {a_inv}')"
      ],
      "metadata": {
        "colab": {
          "base_uri": "https://localhost:8080/"
        },
        "id": "qrXDXk_OCf9H",
        "outputId": "0e77d7ac-e37b-40b1-9259-1667e5ba63fe"
      },
      "execution_count": 26,
      "outputs": [
        {
          "output_type": "stream",
          "name": "stdout",
          "text": [
            "a: [[2 4 8]\n",
            " [7 9 5]\n",
            " [2 3 8]]\n",
            "a_inv: [[-1.23913043e+00  1.73913043e-01  1.13043478e+00]\n",
            " [ 1.00000000e+00 -3.88578059e-17 -1.00000000e+00]\n",
            " [-6.52173913e-02 -4.34782609e-02  2.17391304e-01]]\n"
          ]
        }
      ]
    },
    {
      "cell_type": "markdown",
      "source": [
        "9. Створіть матрицю розміром 4x4, заповніть її випадковими дійсними числами в діапазоні від 0 до 1 та транспонуйте її."
      ],
      "metadata": {
        "id": "24kMTHYxDqP7"
      }
    },
    {
      "cell_type": "code",
      "source": [
        "a = np.random.rand(4, 4)\n",
        "a_inv = np.linalg.inv(a)\n",
        "print(f'a: {a}')\n",
        "print(f'a_inv: {a_inv}')"
      ],
      "metadata": {
        "colab": {
          "base_uri": "https://localhost:8080/"
        },
        "id": "XG-J0K2yDrfl",
        "outputId": "f9d7cd30-065c-483f-e801-66d5fd36fda1"
      },
      "execution_count": 27,
      "outputs": [
        {
          "output_type": "stream",
          "name": "stdout",
          "text": [
            "a: [[0.44577405 0.93197098 0.5210662  0.64304664]\n",
            " [0.49916938 0.25878735 0.08910242 0.23461349]\n",
            " [0.53290061 0.73486576 0.37983996 0.28319741]\n",
            " [0.87564301 0.67040933 0.3790644  0.42140968]]\n",
            "a_inv: [[ -1.10423271   0.26705333  -0.24604247   1.70166337]\n",
            " [ -0.28831943   6.21634319   5.9269314   -7.00393673]\n",
            " [  0.16495914 -14.01032565  -5.58674872  11.3027487 ]\n",
            " [  2.60477063   2.15817977  -3.89238144  -0.18750104]]\n"
          ]
        }
      ]
    },
    {
      "cell_type": "markdown",
      "source": [
        "10. Створіть матрицю розміром 3x4 та вектор розміром 4, заповніть їх випадковими цілими числами в діапазоні від 1 до 10 та перемножте матрицю на вектор."
      ],
      "metadata": {
        "id": "cfpUSKSMD86E"
      }
    },
    {
      "cell_type": "code",
      "source": [
        "matrix = np.random.randint(1, 11, (3, 4))\n",
        "vector = np.random.randint(1,11, (4,))\n",
        "print(matrix)\n",
        "print(vector)\n",
        "print(matrix * vector)"
      ],
      "metadata": {
        "colab": {
          "base_uri": "https://localhost:8080/"
        },
        "id": "WJv9LHaTD-aA",
        "outputId": "5868fd58-62ce-4cce-8e20-1c6b55184ca0"
      },
      "execution_count": 33,
      "outputs": [
        {
          "output_type": "stream",
          "name": "stdout",
          "text": [
            "[[7 6 3 9]\n",
            " [9 8 8 9]\n",
            " [6 6 4 7]]\n",
            "[5 8 2 3]\n",
            "[[35 48  6 27]\n",
            " [45 64 16 27]\n",
            " [30 48  8 21]]\n"
          ]
        }
      ]
    },
    {
      "cell_type": "markdown",
      "source": [
        "11. Створіть матрицю розміром 2x3 та вектор розміром 3, заповніть їх випадковими дійсними числами в діапазоні від 0 до 1 та перемножте матрицю на вектор."
      ],
      "metadata": {
        "id": "0tSWcWmrFxnH"
      }
    },
    {
      "cell_type": "code",
      "source": [
        "matrix = np.random.rand(2,3)\n",
        "vector = np.random.rand(3)\n",
        "print(matrix)\n",
        "print(vector)\n",
        "print(matrix * vector)"
      ],
      "metadata": {
        "colab": {
          "base_uri": "https://localhost:8080/"
        },
        "id": "fKmSQdbNF2Bh",
        "outputId": "836f65d4-28be-46e7-fa0a-91e3877cb441"
      },
      "execution_count": 32,
      "outputs": [
        {
          "output_type": "stream",
          "name": "stdout",
          "text": [
            "[[0.80540331 0.10726369 0.42018182]\n",
            " [0.94673494 0.6412287  0.65122102]]\n",
            "[0.03078399 0.74187208 0.83833796]\n",
            "[[0.02479353 0.07957593 0.35225437]\n",
            " [0.02914428 0.47570967 0.5459433 ]]\n"
          ]
        }
      ]
    },
    {
      "cell_type": "markdown",
      "source": [
        "12. Створіть дві матриці розміром 2x2, заповніть їх випадковими цілими числами в діапазоні від 1 до 10 та виконайте їхнє поелементне множення."
      ],
      "metadata": {
        "id": "NYxAGpYTGAUT"
      }
    },
    {
      "cell_type": "code",
      "source": [
        "matrix = np.random.randint(1, 11, (2,2))\n",
        "vector = np.random.randint(1,11, (2,2))\n",
        "print(matrix)\n",
        "print(vector)\n",
        "print(matrix * vector)"
      ],
      "metadata": {
        "colab": {
          "base_uri": "https://localhost:8080/"
        },
        "id": "tNZBr4_0GBwT",
        "outputId": "8a092c30-00a5-4b21-b55d-e019243a2a16"
      },
      "execution_count": 31,
      "outputs": [
        {
          "output_type": "stream",
          "name": "stdout",
          "text": [
            "[[5 2]\n",
            " [2 3]]\n",
            "[[ 9  7]\n",
            " [ 5 10]]\n",
            "[[45 14]\n",
            " [10 30]]\n"
          ]
        }
      ]
    },
    {
      "cell_type": "markdown",
      "source": [
        "13. Створіть дві матриці розміром 2x2, заповніть їх випадковими цілими числами в діапазоні від 1 до 10 та знайдіть їх добуток."
      ],
      "metadata": {
        "id": "wUN01OThGPFo"
      }
    },
    {
      "cell_type": "code",
      "source": [
        "matrix = np.random.randint(1, 11, (2,2))\n",
        "vector = np.random.randint(1,11, (2,2))\n",
        "print(matrix)\n",
        "print(vector)\n",
        "print(np.dot(matrix, vector))"
      ],
      "metadata": {
        "colab": {
          "base_uri": "https://localhost:8080/"
        },
        "id": "oxGmjG1EGRGI",
        "outputId": "e035f2dd-b292-449c-cbf4-ce9f35b43406"
      },
      "execution_count": 34,
      "outputs": [
        {
          "output_type": "stream",
          "name": "stdout",
          "text": [
            "[[10  5]\n",
            " [ 4  6]]\n",
            "[[3 2]\n",
            " [8 4]]\n",
            "[[70 40]\n",
            " [60 32]]\n"
          ]
        }
      ]
    },
    {
      "cell_type": "markdown",
      "source": [
        "14. Створіть матрицю розміром 5x5, заповніть її випадковими цілими числами в діапазоні від 1 до 100 та знайдіть суму елементів матриці."
      ],
      "metadata": {
        "id": "8q3TANY3G1TH"
      }
    },
    {
      "cell_type": "code",
      "source": [
        "a = np.random.randint(1, 101, (5, 5))\n",
        "print(a)\n",
        "print(a.sum())"
      ],
      "metadata": {
        "colab": {
          "base_uri": "https://localhost:8080/"
        },
        "id": "wDRw54AyG2iv",
        "outputId": "ff7ddc51-3b4c-4b0e-f35a-b6ae871017c7"
      },
      "execution_count": 37,
      "outputs": [
        {
          "output_type": "stream",
          "name": "stdout",
          "text": [
            "[[ 76  57  36  47  42]\n",
            " [ 61   1   9  75  52]\n",
            " [ 38  90  63  70  66]\n",
            " [ 55  40  61  60  86]\n",
            " [100   5  15  50  33]]\n",
            "1288\n"
          ]
        }
      ]
    },
    {
      "cell_type": "markdown",
      "source": [
        "15. Створіть дві матриці розміром 4x4, заповніть їх випадковими цілими числами в діапазоні від 1 до 10 та знайдіть їхню різницю."
      ],
      "metadata": {
        "id": "ckyruZfJHbfa"
      }
    },
    {
      "cell_type": "code",
      "source": [
        "a = np.random.randint(1, 11, (4, 4))\n",
        "b = np.random.randint(1, 11, (4, 4))\n",
        "print(a)\n",
        "print(b)\n",
        "print(a-b)"
      ],
      "metadata": {
        "colab": {
          "base_uri": "https://localhost:8080/"
        },
        "id": "C9qob-1HHdYK",
        "outputId": "8a5802b1-8228-4b0d-9f3a-084605960f5b"
      },
      "execution_count": 38,
      "outputs": [
        {
          "output_type": "stream",
          "name": "stdout",
          "text": [
            "[[ 4  8  8  2]\n",
            " [ 4  2  5  1]\n",
            " [ 2  2  2  3]\n",
            " [ 1  9 10  7]]\n",
            "[[10  8  8  3]\n",
            " [ 3  2  6  6]\n",
            " [ 6  8 10 10]\n",
            " [ 7  6  6  3]]\n",
            "[[-6  0  0 -1]\n",
            " [ 1  0 -1 -5]\n",
            " [-4 -6 -8 -7]\n",
            " [-6  3  4  4]]\n"
          ]
        }
      ]
    },
    {
      "cell_type": "markdown",
      "source": [
        "16. Створіть матрицю розміром 3x3, заповніть її випадковими дійсними числами в діапазоні від 0 до 1 та знайдіть вектор-стовпчик, що містить суму елементів кожного рядка матриці."
      ],
      "metadata": {
        "id": "b3s9BZ3xH4fS"
      }
    },
    {
      "cell_type": "code",
      "source": [
        "a = np.random.rand(3,3)\n",
        "print(a)\n",
        "print(np.sum(a, axis=1, keepdims=True))"
      ],
      "metadata": {
        "colab": {
          "base_uri": "https://localhost:8080/"
        },
        "id": "iKeDJo3UH6EQ",
        "outputId": "a04a8812-9a6a-4381-b936-2a9ddd77308e"
      },
      "execution_count": 40,
      "outputs": [
        {
          "output_type": "stream",
          "name": "stdout",
          "text": [
            "[[0.74420392 0.15924419 0.77738159]\n",
            " [0.2753838  0.3354102  0.93622457]\n",
            " [0.19332297 0.58484063 0.93916436]]\n",
            "[[1.6808297 ]\n",
            " [1.54701857]\n",
            " [1.71732796]]\n"
          ]
        }
      ]
    },
    {
      "cell_type": "code",
      "source": [],
      "metadata": {
        "id": "ocjKlpzYJGxZ"
      },
      "execution_count": null,
      "outputs": []
    },
    {
      "cell_type": "markdown",
      "source": [
        "17. Створіть матрицю розміром 3x4 з довільними цілими числами і створінь матрицю з квадратами цих чисел."
      ],
      "metadata": {
        "id": "VAk_Tj_kI84-"
      }
    },
    {
      "cell_type": "code",
      "source": [
        "a = np.random.randint(1, 10, (3, 4))\n",
        "sq = np.square(a)\n",
        "print(a)\n",
        "print(sq)"
      ],
      "metadata": {
        "colab": {
          "base_uri": "https://localhost:8080/"
        },
        "id": "0q3a9RoWI-Lb",
        "outputId": "141dd121-ae25-4074-ba57-3003ddbcfd0f"
      },
      "execution_count": 42,
      "outputs": [
        {
          "output_type": "stream",
          "name": "stdout",
          "text": [
            "[[7 3 2 2]\n",
            " [9 6 4 3]\n",
            " [8 5 6 4]]\n",
            "[[49  9  4  4]\n",
            " [81 36 16  9]\n",
            " [64 25 36 16]]\n"
          ]
        }
      ]
    },
    {
      "cell_type": "markdown",
      "source": [
        "18. Створіть вектор розміром 4, заповніть його випадковими цілими числами в діапазоні від 1 до 50 та знайдіть вектор з квадратними коренями цих чисел."
      ],
      "metadata": {
        "id": "vSY9l2NvJYK3"
      }
    },
    {
      "cell_type": "code",
      "source": [
        "a = np.random.randint(1, 51, 4)\n",
        "sqrt = np.sqrt(a)\n",
        "print(a)\n",
        "print(sqrt)"
      ],
      "metadata": {
        "colab": {
          "base_uri": "https://localhost:8080/"
        },
        "id": "38yu7P9FJazf",
        "outputId": "0f5e6033-711e-4777-f8c1-fb9a42b7d9cd"
      },
      "execution_count": 43,
      "outputs": [
        {
          "output_type": "stream",
          "name": "stdout",
          "text": [
            "[18 27 21 44]\n",
            "[4.24264069 5.19615242 4.58257569 6.63324958]\n"
          ]
        }
      ]
    }
  ]
}